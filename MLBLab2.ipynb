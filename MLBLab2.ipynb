{
  "cells": [
    {
      "cell_type": "markdown",
      "metadata": {
        "id": "foT8pth--QfY"
      },
      "source": [
        "### 🔍 Objective:\n",
        "This project will **introduce you to CNNs**.\n",
        "\n",
        "### 📌 What You’ll Do:\n",
        "1. Define suitable transforms/augmentations for your `train` and `test` images.\n",
        "2. Pass these images into PyTorch `DataLoaders` for batch processing.\n",
        "3. Implement `CNN` class architecture for pneumonia image classification.\n",
        "4. Train and validate your model.\n",
        "\n",
        "💡 **PLEASE PLEASE PLEASE look things up!!! This is YOUR learning experience.**\n",
        "\n",
        "---"
      ]
    },
    {
      "cell_type": "code",
      "execution_count": 3,
      "metadata": {
        "colab": {
          "base_uri": "https://localhost:8080/"
        },
        "execution": {
          "iopub.execute_input": "2025-01-30T23:24:55.964653Z",
          "iopub.status.busy": "2025-01-30T23:24:55.964380Z",
          "iopub.status.idle": "2025-01-30T23:24:59.878536Z",
          "shell.execute_reply": "2025-01-30T23:24:59.877445Z",
          "shell.execute_reply.started": "2025-01-30T23:24:55.964628Z"
        },
        "id": "trKjIVza-Qfa",
        "outputId": "c790d573-7a32-4d56-8ee9-b56dfce73094",
        "trusted": true
      },
      "outputs": [
        {
          "name": "stderr",
          "output_type": "stream",
          "text": [
            "c:\\Users\\Kadin Wolfe\\Downloads\\project-2-cnns-w-lfe\\.venv\\lib\\site-packages\\tqdm\\auto.py:21: TqdmWarning: IProgress not found. Please update jupyter and ipywidgets. See https://ipywidgets.readthedocs.io/en/stable/user_install.html\n",
            "  from .autonotebook import tqdm as notebook_tqdm\n"
          ]
        },
        {
          "name": "stdout",
          "output_type": "stream",
          "text": [
            "Downloading from https://www.kaggle.com/api/v1/datasets/download/paultimothymooney/chest-xray-pneumonia?dataset_version_number=2...\n"
          ]
        },
        {
          "name": "stderr",
          "output_type": "stream",
          "text": [
            "100%|██████████| 2.29G/2.29G [00:45<00:00, 54.4MB/s]"
          ]
        },
        {
          "name": "stdout",
          "output_type": "stream",
          "text": [
            "Extracting files...\n"
          ]
        },
        {
          "name": "stderr",
          "output_type": "stream",
          "text": [
            "\n"
          ]
        }
      ],
      "source": [
        "import torch\n",
        "import kagglehub\n",
        "import torch.nn as nn\n",
        "\n",
        "path = kagglehub.dataset_download(\"paultimothymooney/chest-xray-pneumonia\")\n",
        "\n",
        "train_path = f'{path}/chest_xray/train/'\n",
        "test_path = f'{path}/chest_xray/test/'"
      ]
    },
    {
      "cell_type": "markdown",
      "metadata": {
        "id": "sCcUi9kd-Qfc"
      },
      "source": [
        "#### 📌 ***TASK 1 - DATA PREPROCESSING***\n",
        "\n",
        "Define image augmentations in the cell below using two variables:  \n",
        "\n",
        "- **`transform_train`**: Stores transforms for training images. You can include any augmentations you prefer.  \n",
        "- **`transform_test`**: Stores transforms for your test images. As a best practice, limit these transformations to only the essential ones from `transform_train`.\n",
        "\n",
        "Lastly, be sure to convert all images to [tensors](https://www.perplexity.ai/search/i-m-a-student-at-naiss-mlb-and-_EL_nBO9TS694cbTEl5M.A) via the `transforms.ToTensor()` transform. Don't know transforms? [Click here](https://pytorch.org/vision/stable/transforms.html)."
      ]
    },
    {
      "cell_type": "code",
      "execution_count": 4,
      "metadata": {
        "id": "jQXXGPKj-Qfc",
        "trusted": true
      },
      "outputs": [],
      "source": [
        "from torchvision import transforms\n",
        "\n",
        "# augmentations for training\n",
        "transform_train = transforms.Compose([\n",
        "    # resize & crop to a fixed size (e.g. 224×224)\n",
        "    transforms.Resize(256),\n",
        "    transforms.RandomResizedCrop(224, scale=(0.8, 1.0)),\n",
        "    # random flips/rotations for robustness\n",
        "    transforms.RandomHorizontalFlip(p=0.5),\n",
        "    transforms.RandomRotation(degrees=10),\n",
        "    # slight brightness/contrast jitter\n",
        "    transforms.ColorJitter(brightness=0.2, contrast=0.2),\n",
        "    # convert PIL→Tensor and normalize (here for single-channel x-rays)\n",
        "    transforms.ToTensor(),\n",
        "    transforms.Normalize([0.5], [0.5]),\n",
        "])\n",
        "\n",
        "# “minimal” transforms for validation/testing\n",
        "transform_test = transforms.Compose([\n",
        "    transforms.Resize(256),\n",
        "    transforms.CenterCrop(224),\n",
        "    transforms.ToTensor(),\n",
        "    transforms.Normalize([0.5], [0.5]),\n",
        "])"
      ]
    },
    {
      "cell_type": "markdown",
      "metadata": {
        "id": "JvBZSzQb-Qfc"
      },
      "source": [
        "Now, we'll pass our images and transforms into a `DataLoader`, which allows us to train our model in batches.\n",
        "Most of the code is done for you, but [click here](https://www.perplexity.ai/search/i-m-a-student-at-naiss-mlb-and-_EL_nBO9TS694cbTEl5M.A) to learn more."
      ]
    },
    {
      "cell_type": "code",
      "execution_count": 6,
      "metadata": {
        "id": "xZYhbcgA-Qfc",
        "trusted": true
      },
      "outputs": [],
      "source": [
        "from torchvision.datasets import ImageFolder\n",
        "from torch.utils.data import DataLoader\n",
        "\n",
        "# how many images per batch\n",
        "batch_size = 32  \n",
        "\n",
        "# create datasets, pointing at your folders and applying the transforms\n",
        "train_dataset = ImageFolder(root=train_path, transform=transform_train)\n",
        "test_dataset  = ImageFolder(root=test_path,  transform=transform_test)\n",
        "\n",
        "# wrap them in DataLoaders for iteration\n",
        "train_loader = DataLoader(\n",
        "    dataset=train_dataset,\n",
        "    batch_size=batch_size,\n",
        "    shuffle=True,        # shuffle for training\n",
        "    num_workers=4,       # parallel data loading (tweak as your machine allows)\n",
        "    pin_memory=True,     # often speeds up GPU training\n",
        ")\n",
        "\n",
        "test_loader = DataLoader(\n",
        "    dataset=test_dataset,\n",
        "    batch_size=batch_size,\n",
        "    shuffle=False,       # keep order consistent for evaluation\n",
        "    num_workers=4,\n",
        "    pin_memory=True,\n",
        ")"
      ]
    },
    {
      "cell_type": "markdown",
      "metadata": {
        "id": "YJp8AV-E-Qfd"
      },
      "source": [
        "#### 📌 ***TASK 2 - CNN Architecture***\n",
        "\n",
        "This is where you have all the creative freedom in the world. Here are some good questions to ask yourself:\n",
        "\n",
        "- How many [channels](https://www.perplexity.ai/search/i-m-a-student-at-naiss-mlb-wha-49AG77e4Qp2e7EkARdFsTA) should go into the input layer?\n",
        "- What measures can I take to avoid [overfitting](https://www.perplexity.ai/search/i-m-a-student-at-naiss-mlb-wha-YdAbhqQzRZaEq39BEQzA6w)?\n",
        "- What matters to me? (Training Speed / Performance tradeoffs)\n",
        "- **CONVOLUTION. ACTIVATION FUNCTION. POOLING!!!** 📢📢📢\n",
        "\n",
        "Not comfortable with PyTorch? [Here](https://youtu.be/mozBidd58VQ?si=TE2_81TEQko1eDXT). Go and make me the best [CNN](https://www.datacamp.com/tutorial/introduction-to-convolutional-neural-networks-cnns) I've ever seen :)"
      ]
    },
    {
      "cell_type": "code",
      "execution_count": 15,
      "metadata": {
        "id": "j3zGSpyz-Qfd",
        "trusted": true
      },
      "outputs": [],
      "source": [
        "import torch\n",
        "import torch.nn as nn\n",
        "\n",
        "\n",
        "image_height = 224\n",
        "image_width  = 224\n",
        "\n",
        "import torch\n",
        "import torch.nn as nn\n",
        "\n",
        "class PneumoniaCNN(nn.Module):\n",
        "    def __init__(self, num_classes: int = 2):\n",
        "        super().__init__()\n",
        "        # input is now 3-channel RGB\n",
        "        self.features = nn.Sequential(\n",
        "            nn.Conv2d(in_channels=3, out_channels=16, kernel_size=3, padding=1),\n",
        "            nn.ReLU(inplace=True),\n",
        "            nn.MaxPool2d(2),              # → 16×112×112\n",
        "\n",
        "            nn.Conv2d(16, 32, kernel_size=3, padding=1),\n",
        "            nn.ReLU(inplace=True),\n",
        "            nn.MaxPool2d(2),              # → 32×56×56\n",
        "\n",
        "            nn.Conv2d(32, 64, kernel_size=3, padding=1),\n",
        "            nn.ReLU(inplace=True),\n",
        "            nn.MaxPool2d(2),              # → 64×28×28\n",
        "        )\n",
        "\n",
        "        # 64 channels, each 28×28 after three pools\n",
        "        flattened_dim = 64 * 28 * 28\n",
        "\n",
        "        self.classifier = nn.Sequential(\n",
        "            nn.Dropout(p=0.5),\n",
        "            nn.Linear(flattened_dim, 128),\n",
        "            nn.ReLU(inplace=True),\n",
        "            nn.Dropout(p=0.5),\n",
        "            nn.Linear(128, num_classes),\n",
        "        )\n",
        "\n",
        "    def forward(self, x: torch.Tensor) -> torch.Tensor:\n",
        "        x = self.features(x)\n",
        "        x = x.view(x.size(0), -1)\n",
        "        x = self.classifier(x)\n",
        "        return x\n",
        "\n"
      ]
    },
    {
      "cell_type": "markdown",
      "metadata": {
        "id": "LnG4r6aw-Qfe"
      },
      "source": [
        "#### 📌 ***TASK 3 - DEFINE TRAIN FUNCTION***  \n",
        "\n",
        "Define `process_forward_phase` and `train` to update model weights with each new [epoch/iteration](https://www.perplexity.ai/search/i-m-a-curious-naiss-mlb-studen-7SJECNYrS1iYxUR032dp7A). Here are the steps:\n",
        "\n",
        "- **Forward pass:** Here, our batch is taken through the network to output a prediction (Normal/Pneumonia)\n",
        "- **Backward pass:** The model goes \"What's our loss? Hmmm... Not quite what I want. This means my `weights` aren't adjusted properly. Let me propagate my `loss` backward in hopes of correcting my weights.\"\n",
        "\n",
        "We use **`f1_score`** as the primary metric and also display **`accuracy`** for comparison. Most steps are outlined for you—just follow the structure provided!"
      ]
    },
    {
      "cell_type": "code",
      "execution_count": 20,
      "metadata": {
        "execution": {
          "iopub.execute_input": "2025-02-07T14:38:35.588043Z",
          "iopub.status.busy": "2025-02-07T14:38:35.587676Z",
          "iopub.status.idle": "2025-02-07T14:38:36.250754Z",
          "shell.execute_reply": "2025-02-07T14:38:36.249692Z",
          "shell.execute_reply.started": "2025-02-07T14:38:35.588017Z"
        },
        "id": "Pz9OGUy8-Qfe",
        "trusted": true
      },
      "outputs": [],
      "source": [
        "import torch\n",
        "from tqdm import tqdm # Visualize training progress\n",
        "from sklearn.metrics import f1_score, accuracy_score\n",
        "\n",
        "def process_forward_pass(model, batch, criterion, device):\n",
        "    \"\"\"\n",
        "    Runs one forward pass and returns:\n",
        "      - loss (torch.Tensor),\n",
        "      - predictions (torch.Tensor on CPU, shape [batch]),\n",
        "      - labels    (torch.Tensor on CPU, shape [batch]).\n",
        "    \"\"\"\n",
        "    images, labels = batch\n",
        "    images, labels = images.to(device), labels.to(device)\n",
        "\n",
        "    # 1) forward\n",
        "    outputs = model(images)                 # shape [B, num_classes]\n",
        "\n",
        "    # 2) compute loss\n",
        "    loss = criterion(outputs, labels)       # CrossEntropyLoss expects labels as long\n",
        "\n",
        "    # 3) get predicted class (argmax over logits)\n",
        "    preds = torch.argmax(outputs, dim=1)    # shape [B]\n",
        "\n",
        "    # bring preds & labels back to CPU so .numpy() works downstream\n",
        "    return loss, preds.detach().cpu(), labels.detach().cpu()\n",
        "\n",
        "\n",
        "def train(model, train_loader, criterion, optimizer, epochs, device):\n",
        "    \"\"\"\n",
        "    Loops over `epochs` and for each batch:\n",
        "      - zeros grads\n",
        "      - does forward pass\n",
        "      - backward + optimizer.step\n",
        "      - accumulates preds & labels for metrics\n",
        "    Prints loss/acc/F1 at the end of each epoch.\n",
        "    \"\"\"\n",
        "    model.to(device)\n",
        "\n",
        "    for epoch in range(epochs):\n",
        "        model.train()\n",
        "        all_preds, all_labels = [], []\n",
        "\n",
        "        loop = tqdm(train_loader, desc=f\"Epoch {epoch+1}/{epochs}\")\n",
        "        for batch in loop:\n",
        "            optimizer.zero_grad()\n",
        "\n",
        "            # forward → loss, preds, labels\n",
        "            loss, preds, labels = process_forward_pass(model, batch, criterion, device)\n",
        "\n",
        "            # backward → update weights\n",
        "            loss.backward()\n",
        "            optimizer.step()\n",
        "\n",
        "            # collect for metrics\n",
        "            # after:\n",
        "            all_preds.extend(preds.tolist())\n",
        "            all_labels.extend(labels.tolist())\n",
        "\n",
        "\n",
        "            # update the tqdm bar with current loss\n",
        "            loop.set_postfix(loss=loss.item())\n",
        "\n",
        "        # compute epoch metrics\n",
        "        acc = accuracy_score(all_labels, all_preds)\n",
        "        f1  = f1_score(all_labels, all_preds)\n",
        "\n",
        "        print(f\"Epoch {epoch+1}/{epochs} →  Acc: {acc*100:.2f}%,  F1: {f1:.4f}\")\n"
      ]
    },
    {
      "cell_type": "markdown",
      "metadata": {
        "id": "Yx9DofPM-Qfe"
      },
      "source": [
        "After your model trains, you want to see how well it performs on **unseen data.** Meaning, if this were a live hospital NEEDING your predictions to classify patients with pneumonia, how well would it do?\n",
        "\n",
        "\n",
        "You simply have to run this cell; all the code is implemented for you (Assuming `process_forward_phase` works fine). 😊"
      ]
    },
    {
      "cell_type": "code",
      "execution_count": 25,
      "metadata": {
        "execution": {
          "iopub.execute_input": "2025-02-07T13:46:23.455211Z",
          "iopub.status.busy": "2025-02-07T13:46:23.454693Z",
          "iopub.status.idle": "2025-02-07T13:46:23.464758Z",
          "shell.execute_reply": "2025-02-07T13:46:23.463432Z",
          "shell.execute_reply.started": "2025-02-07T13:46:23.455043Z"
        },
        "id": "luq7_sq--Qff",
        "trusted": true
      },
      "outputs": [],
      "source": [
        "import torch\n",
        "from tqdm import tqdm\n",
        "from sklearn.metrics import accuracy_score, f1_score\n",
        "\n",
        "def test(model, test_loader, criterion, device):\n",
        "    model.to(device)\n",
        "    model.eval()\n",
        "\n",
        "    all_preds, all_labels = [], []\n",
        "    total_loss = 0.0\n",
        "\n",
        "    with torch.no_grad():\n",
        "        loop = tqdm(test_loader, desc=\"Testing\")\n",
        "        for batch in loop:\n",
        "            # call the forward-pass helper you actually defined\n",
        "            loss, preds, labels = process_forward_pass(model, batch, criterion, device)\n",
        "            total_loss += loss.item()\n",
        "\n",
        "            # no NumPy needed\n",
        "            all_preds.extend(preds.tolist())\n",
        "            all_labels.extend(labels.tolist())\n",
        "\n",
        "    # aggregate metrics\n",
        "    avg_loss = total_loss / len(test_loader)\n",
        "    acc = accuracy_score(all_labels, all_preds)\n",
        "    f1  = f1_score(all_labels, all_preds)\n",
        "\n",
        "    print(f\"Test Loss: {avg_loss:.4f} | Acc: {acc*100:.2f}% | F1: {f1:.4f}\")\n"
      ]
    },
    {
      "cell_type": "markdown",
      "metadata": {
        "id": "Ykt3cX06-Qff"
      },
      "source": [
        "#### 📌***TASK 4 - TRAIN MODEL***\n",
        "\n",
        "We're close!!! We simply need to instantiate the `model`, define a suitable `criterion` (loss), and use an `optimizer` (thing to speed up backpropagation)."
      ]
    },
    {
      "cell_type": "code",
      "execution_count": 21,
      "metadata": {
        "id": "0P1bdWXr-Qff",
        "trusted": true
      },
      "outputs": [
        {
          "name": "stderr",
          "output_type": "stream",
          "text": [
            "Epoch 1/10: 100%|██████████| 163/163 [01:23<00:00,  1.94it/s, loss=0.237]\n"
          ]
        },
        {
          "name": "stdout",
          "output_type": "stream",
          "text": [
            "Epoch 1/10 →  Acc: 82.25%,  F1: 0.8888\n"
          ]
        },
        {
          "name": "stderr",
          "output_type": "stream",
          "text": [
            "Epoch 2/10:   0%|          | 0/163 [00:00<?, ?it/s]c:\\Users\\Kadin Wolfe\\Downloads\\project-2-cnns-w-lfe\\.venv\\lib\\site-packages\\torch\\utils\\data\\dataloader.py:665: UserWarning: 'pin_memory' argument is set as true but no accelerator is found, then device pinned memory won't be used.\n",
            "  warnings.warn(warn_msg)\n",
            "Epoch 2/10: 100%|██████████| 163/163 [01:24<00:00,  1.92it/s, loss=0.188] \n"
          ]
        },
        {
          "name": "stdout",
          "output_type": "stream",
          "text": [
            "Epoch 2/10 →  Acc: 88.78%,  F1: 0.9261\n"
          ]
        },
        {
          "name": "stderr",
          "output_type": "stream",
          "text": [
            "Epoch 3/10:   0%|          | 0/163 [00:00<?, ?it/s]c:\\Users\\Kadin Wolfe\\Downloads\\project-2-cnns-w-lfe\\.venv\\lib\\site-packages\\torch\\utils\\data\\dataloader.py:665: UserWarning: 'pin_memory' argument is set as true but no accelerator is found, then device pinned memory won't be used.\n",
            "  warnings.warn(warn_msg)\n",
            "Epoch 3/10: 100%|██████████| 163/163 [01:24<00:00,  1.92it/s, loss=0.19]  \n"
          ]
        },
        {
          "name": "stdout",
          "output_type": "stream",
          "text": [
            "Epoch 3/10 →  Acc: 90.28%,  F1: 0.9355\n"
          ]
        },
        {
          "name": "stderr",
          "output_type": "stream",
          "text": [
            "Epoch 4/10:   0%|          | 0/163 [00:00<?, ?it/s]c:\\Users\\Kadin Wolfe\\Downloads\\project-2-cnns-w-lfe\\.venv\\lib\\site-packages\\torch\\utils\\data\\dataloader.py:665: UserWarning: 'pin_memory' argument is set as true but no accelerator is found, then device pinned memory won't be used.\n",
            "  warnings.warn(warn_msg)\n",
            "Epoch 4/10: 100%|██████████| 163/163 [01:28<00:00,  1.85it/s, loss=0.206] \n"
          ]
        },
        {
          "name": "stdout",
          "output_type": "stream",
          "text": [
            "Epoch 4/10 →  Acc: 91.76%,  F1: 0.9450\n"
          ]
        },
        {
          "name": "stderr",
          "output_type": "stream",
          "text": [
            "Epoch 5/10:   0%|          | 0/163 [00:00<?, ?it/s]c:\\Users\\Kadin Wolfe\\Downloads\\project-2-cnns-w-lfe\\.venv\\lib\\site-packages\\torch\\utils\\data\\dataloader.py:665: UserWarning: 'pin_memory' argument is set as true but no accelerator is found, then device pinned memory won't be used.\n",
            "  warnings.warn(warn_msg)\n",
            "Epoch 5/10: 100%|██████████| 163/163 [01:23<00:00,  1.94it/s, loss=0.127] \n"
          ]
        },
        {
          "name": "stdout",
          "output_type": "stream",
          "text": [
            "Epoch 5/10 →  Acc: 92.35%,  F1: 0.9489\n"
          ]
        },
        {
          "name": "stderr",
          "output_type": "stream",
          "text": [
            "Epoch 6/10:   0%|          | 0/163 [00:00<?, ?it/s]c:\\Users\\Kadin Wolfe\\Downloads\\project-2-cnns-w-lfe\\.venv\\lib\\site-packages\\torch\\utils\\data\\dataloader.py:665: UserWarning: 'pin_memory' argument is set as true but no accelerator is found, then device pinned memory won't be used.\n",
            "  warnings.warn(warn_msg)\n",
            "Epoch 6/10: 100%|██████████| 163/163 [01:20<00:00,  2.03it/s, loss=0.321] \n"
          ]
        },
        {
          "name": "stdout",
          "output_type": "stream",
          "text": [
            "Epoch 6/10 →  Acc: 93.44%,  F1: 0.9561\n"
          ]
        },
        {
          "name": "stderr",
          "output_type": "stream",
          "text": [
            "Epoch 7/10:   0%|          | 0/163 [00:00<?, ?it/s]c:\\Users\\Kadin Wolfe\\Downloads\\project-2-cnns-w-lfe\\.venv\\lib\\site-packages\\torch\\utils\\data\\dataloader.py:665: UserWarning: 'pin_memory' argument is set as true but no accelerator is found, then device pinned memory won't be used.\n",
            "  warnings.warn(warn_msg)\n",
            "Epoch 7/10: 100%|██████████| 163/163 [01:28<00:00,  1.84it/s, loss=0.245] \n"
          ]
        },
        {
          "name": "stdout",
          "output_type": "stream",
          "text": [
            "Epoch 7/10 →  Acc: 92.77%,  F1: 0.9517\n"
          ]
        },
        {
          "name": "stderr",
          "output_type": "stream",
          "text": [
            "Epoch 8/10:   0%|          | 0/163 [00:00<?, ?it/s]c:\\Users\\Kadin Wolfe\\Downloads\\project-2-cnns-w-lfe\\.venv\\lib\\site-packages\\torch\\utils\\data\\dataloader.py:665: UserWarning: 'pin_memory' argument is set as true but no accelerator is found, then device pinned memory won't be used.\n",
            "  warnings.warn(warn_msg)\n",
            "Epoch 8/10: 100%|██████████| 163/163 [01:25<00:00,  1.91it/s, loss=0.12]  \n"
          ]
        },
        {
          "name": "stdout",
          "output_type": "stream",
          "text": [
            "Epoch 8/10 →  Acc: 93.35%,  F1: 0.9553\n"
          ]
        },
        {
          "name": "stderr",
          "output_type": "stream",
          "text": [
            "Epoch 9/10:   0%|          | 0/163 [00:00<?, ?it/s]c:\\Users\\Kadin Wolfe\\Downloads\\project-2-cnns-w-lfe\\.venv\\lib\\site-packages\\torch\\utils\\data\\dataloader.py:665: UserWarning: 'pin_memory' argument is set as true but no accelerator is found, then device pinned memory won't be used.\n",
            "  warnings.warn(warn_msg)\n",
            "Epoch 9/10: 100%|██████████| 163/163 [01:26<00:00,  1.89it/s, loss=0.359] \n"
          ]
        },
        {
          "name": "stdout",
          "output_type": "stream",
          "text": [
            "Epoch 9/10 →  Acc: 93.67%,  F1: 0.9574\n"
          ]
        },
        {
          "name": "stderr",
          "output_type": "stream",
          "text": [
            "Epoch 10/10:   0%|          | 0/163 [00:00<?, ?it/s]c:\\Users\\Kadin Wolfe\\Downloads\\project-2-cnns-w-lfe\\.venv\\lib\\site-packages\\torch\\utils\\data\\dataloader.py:665: UserWarning: 'pin_memory' argument is set as true but no accelerator is found, then device pinned memory won't be used.\n",
            "  warnings.warn(warn_msg)\n",
            "Epoch 10/10: 100%|██████████| 163/163 [01:27<00:00,  1.86it/s, loss=0.125] "
          ]
        },
        {
          "name": "stdout",
          "output_type": "stream",
          "text": [
            "Epoch 10/10 →  Acc: 93.87%,  F1: 0.9588\n"
          ]
        },
        {
          "name": "stderr",
          "output_type": "stream",
          "text": [
            "\n"
          ]
        }
      ],
      "source": [
        "import torch\n",
        "import torch.nn as nn\n",
        "import torch.optim as optim\n",
        "\n",
        "# 1) Device\n",
        "device = torch.device(\"cuda\" if torch.cuda.is_available() else \"cpu\")\n",
        "\n",
        "# 2) Instantiate \n",
        "model = PneumoniaCNN(num_classes=2).to(device)\n",
        "\n",
        "# 3) Define loss\n",
        "criterion = nn.CrossEntropyLoss()\n",
        "\n",
        "# 4) optimizer\n",
        "optimizer = optim.Adam(\n",
        "    model.parameters(),\n",
        "    lr=1e-3,         # start with 0.001\n",
        "    weight_decay=1e-4  # small L2 regularization to help generalization\n",
        ")\n",
        "\n",
        "# 5) Choose how many epochs you want\n",
        "epochs = 10\n",
        "\n",
        "# 6) Run the training loop\n",
        "train(\n",
        "    model,\n",
        "    train_loader,\n",
        "    criterion,\n",
        "    optimizer,\n",
        "    epochs=epochs,\n",
        "    device=device\n",
        ")\n"
      ]
    },
    {
      "cell_type": "markdown",
      "metadata": {
        "id": "XInpf_2o-Qff"
      },
      "source": [
        "Last step: evaluate your model's performance. Remember, you get **1,000,000** brownie points 🍫 if you beat Adam's **`f1_score:`0.8549**."
      ]
    },
    {
      "cell_type": "code",
      "execution_count": 27,
      "metadata": {
        "id": "sAeAIFf6-Qfg",
        "trusted": true
      },
      "outputs": [
        {
          "name": "stderr",
          "output_type": "stream",
          "text": [
            "Testing:   0%|          | 0/20 [00:00<?, ?it/s]c:\\Users\\Kadin Wolfe\\Downloads\\project-2-cnns-w-lfe\\.venv\\lib\\site-packages\\torch\\utils\\data\\dataloader.py:665: UserWarning: 'pin_memory' argument is set as true but no accelerator is found, then device pinned memory won't be used.\n",
            "  warnings.warn(warn_msg)\n",
            "Testing: 100%|██████████| 20/20 [00:25<00:00,  1.25s/it]"
          ]
        },
        {
          "name": "stdout",
          "output_type": "stream",
          "text": [
            "Test Loss: 2.6899 | Acc: 66.19% | F1: 0.7867\n"
          ]
        },
        {
          "name": "stderr",
          "output_type": "stream",
          "text": [
            "\n"
          ]
        }
      ],
      "source": [
        "test(model, test_loader, criterion, device)\n"
      ]
    }
  ],
  "metadata": {
    "colab": {
      "provenance": []
    },
    "kaggle": {
      "accelerator": "none",
      "dataSources": [],
      "dockerImageVersionId": 30839,
      "isGpuEnabled": false,
      "isInternetEnabled": true,
      "language": "python",
      "sourceType": "notebook"
    },
    "kernelspec": {
      "display_name": ".venv",
      "language": "python",
      "name": "python3"
    },
    "language_info": {
      "codemirror_mode": {
        "name": "ipython",
        "version": 3
      },
      "file_extension": ".py",
      "mimetype": "text/x-python",
      "name": "python",
      "nbconvert_exporter": "python",
      "pygments_lexer": "ipython3",
      "version": "3.10.11"
    }
  },
  "nbformat": 4,
  "nbformat_minor": 0
}
